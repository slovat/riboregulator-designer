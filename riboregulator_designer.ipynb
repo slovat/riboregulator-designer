{
 "cells": [
  {
   "cell_type": "markdown",
   "metadata": {},
   "source": [
    "# Designing Riboregulators"
   ]
  },
  {
   "cell_type": "markdown",
   "metadata": {},
   "source": [
    " "
   ]
  },
  {
   "cell_type": "markdown",
   "metadata": {},
   "source": [
    "This programme automates the design and analysis of riboregulators. The current design is a riboregulator with a target binding site in the loop. The target RNA binds to the loop and unravels the stem of the hairpin structure, analagous to molecular beacons. Because the target RNA has to compete with the stem for binding, such riboregulators should be highly specific as mismatches are disfavoured as they are unable to outcompete the base pairing in the stem. Note mismatches are disfavoured to a greater extent than for a mismatch binding a linear toehold region as seen with toehold switches as there is no competition for binding in the linear toehold region in toehold switches.  \n",
    "\n",
    "This programme uses python wrappers for NUPACK, to allow for easy interfacing\n",
    "between Python and calls to the NUPACK core executables. These wrappers were written for python 2, but have been modified for python 3. The wrappers work for all NUPACK executables except: energy, complexes, concentrations, design and distributions"
   ]
  },
  {
   "cell_type": "markdown",
   "metadata": {},
   "source": [
    "# Steps \n",
    "1. Define a specific target sequence and other parameters.\n",
    "2. Divide the sequence into windows of the same length to form the possible triggers and if there are given homolog sequences, check that the trigger overlaps a mismatch site on the homolog to ensure the riboregulator can distinguish between the target and homologs. \n",
    "3. For each possible trigger, define a riboregulator sequence.\n",
    "4. Evaluate sequence properties using NUPACK and rank them."
   ]
  },
  {
   "cell_type": "markdown",
   "metadata": {},
   "source": [
    "## 1. Define inputs\n",
    "\n",
    "Enter the appropriate values into the cells. "
   ]
  },
  {
   "cell_type": "markdown",
   "metadata": {},
   "source": [
    "#### Enter target sequence here\n",
    "\n",
    "Currently, the tool designs riboregulators for RNA targets. Please enter an RNA sequence here using FASTA format (single letter code using A, U, C and G, T is also accepted, but will be converted to U), upper or lower case is fine. The RNA sequence must be surrounded with quotation marks.\n",
    "\n",
    "Example entry: \"gtactgccaactggatccttcgcgagagcgagtgtgtgtgagcgggatgctgatcgatctaaacgtttagctagctaga\" "
   ]
  },
  {
   "cell_type": "code",
   "execution_count": 1,
   "metadata": {},
   "outputs": [],
   "source": [
    "target_seq = \"gtactgccaactggatccttcgcgagagcgagtgtgtgtgagcgggatgctgatcgatctaaacgtttagctagctaga\" "
   ]
  },
  {
   "cell_type": "markdown",
   "metadata": {},
   "source": [
    "#### Enter homolog sequences here\n",
    "\n",
    "The riboregulators are created from the target sequence, but sequences with a small number of mismatches (homologs) will also be able to bind to and activate the riboregutor, albeit at a reduced rate. This option enables you to include homolog sequences and check how well they bind to the riboregulators designed, providing a measure of the specificity of the the riboregulators. Homologs can substantially alter the concentration measured, meaning the true concentration of the target cannot be accurately measured, it is therefore important to check  whether homologs may prevent accurate quantification of the target RNA. Homologs can be identified using BLAST - we recommend searching for similar sequences in all RNA molecules if the target RNA is being quanitified from a total RNA sample (as any RNA species could bind), although for RNAs present in extremely low concentrations, then it may not be worth including them as they won't impact the measured value much. If a specific kit is used to purify RNAs of a specific type, we recommend looking for homologs only of that type of RNA molecule. \n",
    "\n",
    "Sequences must be entered as a list of strings using FASTA format for the sequences. If no homologs are to be entered, give an empty list (i.e. []).  \n",
    "\n",
    "Example entry with 2 homolog sequences: \n",
    "homologs = [\n",
    "    \"gtactgccaactggatccttcgcgagagcg\",\n",
    "    \"atcgatctaaacgtttagctagctaga\"\n",
    "    ]"
   ]
  },
  {
   "cell_type": "code",
   "execution_count": 2,
   "metadata": {},
   "outputs": [],
   "source": [
    "homologs = [\n",
    "    \"gtactgccaactggatccttcgcgagagcg\",\n",
    "    \"atcgatctaaacgtttagctagctaga\"\n",
    "    ]"
   ]
  },
  {
   "cell_type": "markdown",
   "metadata": {},
   "source": [
    "#### Enter length of trigger here\n",
    "\n",
    "The target sequence is divided into trigger sequences by a sliding window. A riboregulator is then generated for each trigger seuqence and the riboregulator is then analysed. The size of the trigger sequence determines how long the region of complementarity between the riboregulator and the target sequence is. The larger the trigger size, the longer the region of complementarity. Note too long a trigger binding site in the loop may result in secondary structures forming in the loop, which can reduce binding kinetics, leading to poor riboregulator activation. Additionally, the binding may be very stable to the point where homologs may be able to bind effectively as the larger number of base pairing can account for the instability introduced by mismatches. However, too short a trigger binding site can result in poor binding kinetics and an inability to unfold the stem. We recommend starting with a length of 15-20 nucleotides."
   ]
  },
  {
   "cell_type": "code",
   "execution_count": 3,
   "metadata": {},
   "outputs": [],
   "source": [
    "trigger_length = 18"
   ]
  },
  {
   "cell_type": "markdown",
   "metadata": {},
   "source": [
    "#### Enter simulation temperature here\n",
    "\n",
    "Temperature is in degrees Celcius. This determines what temperature should be used for the thermodynamic analysis in NUPACK's calculations."
   ]
  },
  {
   "cell_type": "code",
   "execution_count": 4,
   "metadata": {},
   "outputs": [],
   "source": [
    "simulation_temp = 37"
   ]
  },
  {
   "cell_type": "markdown",
   "metadata": {},
   "source": [
    "#### Check inputs"
   ]
  },
  {
   "cell_type": "code",
   "execution_count": 5,
   "metadata": {},
   "outputs": [],
   "source": [
    "if type(target_seq) != str:\n",
    "    raise Exception('Error, target_seq has to be a string')\n",
    "    \n",
    "\n",
    "if len(target_seq) == 0: \n",
    "    raise Exception(\"Error, please enter a sequence for target\")\n",
    "else:\n",
    "    for base in target_seq:\n",
    "        if base.upper() not in ['A', 'C', 'G', 'U', 'T']:\n",
    "            raise Exception(\"\"\"\n",
    "            Error, please make sure target sequence consists of only A, C, \n",
    "            G, U or T. Check that there are not spaces in the sequence.\n",
    "            \"\"\")"
   ]
  },
  {
   "cell_type": "code",
   "execution_count": 6,
   "metadata": {},
   "outputs": [],
   "source": [
    "if type(homologs) != list:\n",
    "    raise Exception(\"\"\"\n",
    "    Error, homologs has to be a list, if there are not entries, leave the list empty i.e. []\n",
    "    \"\"\")\n",
    "    \n",
    "for i in range(len(homologs)):\n",
    "    for base in homologs[i]:\n",
    "        if base.upper() not in ['A', 'C', 'G', 'U', 'T']:\n",
    "            print(homologs[i])\n",
    "            raise Exception(\"\"\"\n",
    "            Error, please make sure target sequence consists of only\n",
    "            A, C, G, U or T. Check that there are not spaces in the sequence.\n",
    "            \"\"\")"
   ]
  },
  {
   "cell_type": "code",
   "execution_count": 7,
   "metadata": {},
   "outputs": [],
   "source": [
    "if type(trigger_length) != int:\n",
    "    raise Exception('trigger_length must be an integer')"
   ]
  },
  {
   "cell_type": "code",
   "execution_count": 8,
   "metadata": {},
   "outputs": [],
   "source": [
    "if type(simulation_temp) == int or type(simulation_temp) == float:\n",
    "    pass\n",
    "else:\n",
    "    raise Exception('simulation_temp must be an integer or a floating point number')"
   ]
  },
  {
   "cell_type": "markdown",
   "metadata": {},
   "source": [
    "### Import dependencies\n",
    "Do not change this section"
   ]
  },
  {
   "cell_type": "code",
   "execution_count": 9,
   "metadata": {},
   "outputs": [],
   "source": [
    "import numpy as np\n",
    "import pandas as pd\n",
    "from tqdm import tqdm\n",
    "from nupack import nupack_wrapper as nupack"
   ]
  },
  {
   "cell_type": "markdown",
   "metadata": {},
   "source": [
    " "
   ]
  },
  {
   "cell_type": "markdown",
   "metadata": {},
   "source": [
    "### Functions"
   ]
  },
  {
   "cell_type": "code",
   "execution_count": 10,
   "metadata": {},
   "outputs": [],
   "source": [
    "def reversed_complement(sequence):\n",
    "    \"\"\"\n",
    "    Creates the reverse complement sequence of an RNA sequence\n",
    "    \n",
    "    Args:\n",
    "        sequence(str): input RNA strand\n",
    "    \n",
    "    Returns: \n",
    "        rev_complement(str): reversed complementary sequence of the input RNA \n",
    "    \"\"\"\n",
    "    nt_pairing = {\n",
    "        'A': 'U',\n",
    "        'G': 'C',\n",
    "        'U': 'A',\n",
    "        'C': 'G',\n",
    "        }\n",
    "    \n",
    "    sequence_upper = sequence.upper()\n",
    "    complement = ''\n",
    "    for nt in sequence_upper:\n",
    "        complement += nt_pairing[nt]\n",
    "    rev_complement = complement[::-1]\n",
    "    \n",
    "    return rev_complement\n",
    "\n",
    "\n",
    "def split_sequence(sequence, window_len):\n",
    "    '''\n",
    "    Sliding window that splits the sequence into smaller sequences\n",
    "    \n",
    "    Args: \n",
    "        sequence(str): target RNA strand\n",
    "        window_len(int): length of sliding window\n",
    "        \n",
    "    Returns:\n",
    "        sequences (list of strs): list of sequence windows from the original sequence \n",
    "    '''\n",
    "    sequences = []\n",
    "    final_window_start_pos = (len(sequence) - window_len) + 1  \n",
    "    # +1 as final index value is value specified -1\n",
    "    for i in range(0, final_window_start_pos):\n",
    "        sequences.append(sequence[i:window_len + i])\n",
    "\n",
    "    return sequences\n",
    "\n",
    "\n",
    "def no_stop(sequence):\n",
    "    '''Check for stop codons\n",
    "    \n",
    "    Assumes that the first nucleotide is also the first position of a codon.\n",
    "    When no_stop is called in make_riboregulator, it starts checking for \n",
    "    stop codons from the start codon.\n",
    "    \n",
    "    sequence(str): input RNA strand\n",
    "    \n",
    "    returns(Bool): whether the input strand contains a stop codon\n",
    "    '''\n",
    "    stop = ['UAA', 'UAG', 'UGA']\n",
    "    for i in range(0, len(sequence), 3):\n",
    "        if sequence[i:i + 3] in stop:\n",
    "            return False\n",
    "\n",
    "    return True\n",
    "\n",
    "\n",
    "def make_riboregulators(loop):\n",
    "    '''Creates list of riboregulators lacking stop codons after the start codon\n",
    "    \n",
    "    Make sure to write sequences in RNA form for correct formatting.\n",
    "    This function can be easily changed for a different design\n",
    "    \n",
    "    loop(str): target RNA binds here, it is the reverse complement of the target RNA\n",
    "    \n",
    "    returns(lst of strs): list of riboregulators for each trigger\n",
    "    '''\n",
    "    riboregs = []\n",
    "    if no_stop(start_codon + base_3 + linker) == True:\n",
    "        riboregs.append(stem_5_prime + loop + loop_extension + stem_3_prime + linker)\n",
    "\n",
    "    return riboregs"
   ]
  },
  {
   "cell_type": "markdown",
   "metadata": {},
   "source": [
    "\n",
    "\n",
    " "
   ]
  },
  {
   "cell_type": "markdown",
   "metadata": {},
   "source": [
    "### Define the sequences of the riboregulator subcomponents\n",
    "\n",
    "By explicitly stating all of the subcomponents of the stem it allows for sequences to be easily changed, such as the RBS, without requiring the other parts of the code to be changed (such as where the reading frame starts for the no_stop function and ribo_struct used below)."
   ]
  },
  {
   "cell_type": "markdown",
   "metadata": {},
   "source": [
    "#### 3' stem sequence\n",
    "Changes are most likely to occur in this part of the stem as this is where the start codon and RBS are."
   ]
  },
  {
   "cell_type": "code",
   "execution_count": 11,
   "metadata": {},
   "outputs": [],
   "source": [
    "RBS = 'AGGAGA' #this is at the top of the stem \n",
    "mid_3 = 'G'\n",
    "internal_loop_3 = 'AAAA'\n",
    "#internal loop reduces stem stability to increase binding rate \n",
    "#and enable unfolding for shorter triggers\n",
    "start_codon = 'AUG'\n",
    "base_3 = 'CAG'\n",
    "\n",
    "stem_3_prime = RBS + mid_3 + internal_loop_3 + start_codon + base_3"
   ]
  },
  {
   "cell_type": "markdown",
   "metadata": {},
   "source": [
    "#### 5' stem sequence"
   ]
  },
  {
   "cell_type": "code",
   "execution_count": 12,
   "metadata": {},
   "outputs": [],
   "source": [
    "base_5 = reversed_complement(base_3)\n",
    "start_codon_complement = reversed_complement(start_codon)\n",
    "internal_loop_5 = 'CCGC'  \n",
    "\n",
    "mid_5 ='C'\n",
    "RBS_complement = reversed_complement(RBS)\n",
    "\n",
    "stem_5_prime = (\n",
    "    base_5 + start_codon_complement + internal_loop_5 \n",
    "    + mid_5 + RBS_complement\n",
    "    )"
   ]
  },
  {
   "cell_type": "markdown",
   "metadata": {},
   "source": [
    "#### loop extension\n",
    "Currently, this is empty, but it is a placeholder for a sequence between the trigger binding site and RBS, if this ever wants to be added. See notes at the end."
   ]
  },
  {
   "cell_type": "code",
   "execution_count": 13,
   "metadata": {},
   "outputs": [],
   "source": [
    "loop_extension = \"\""
   ]
  },
  {
   "cell_type": "markdown",
   "metadata": {},
   "source": [
    "#### linker sequence\n",
    "The current linker is based on a sequence from doi.org/10.1038/s41589-019-0388-1 supplementary info. This sequence can be optimised to reduce the stability of kinetic intermediates and stabilise the correctly folded structure. The linker sequence will also depend on the reporter used as this has a different sequence."
   ]
  },
  {
   "cell_type": "code",
   "execution_count": 14,
   "metadata": {},
   "outputs": [],
   "source": [
    "linker = 'ACCUGGCGGCAGCGCAAGAAG' "
   ]
  },
  {
   "cell_type": "markdown",
   "metadata": {},
   "source": [
    "## Step 2: Determine suitable trigger sequences\n",
    "Split the target sequence into smaller trigger sequences with a sliding window of length designated by trigger_length.\n",
    "\n",
    "Note that by convention, all sequences are written in the 5' to 3' direction (right to left)."
   ]
  },
  {
   "cell_type": "markdown",
   "metadata": {},
   "source": [
    "### Determine all trigger sequences"
   ]
  },
  {
   "cell_type": "code",
   "execution_count": 15,
   "metadata": {},
   "outputs": [],
   "source": [
    "if trigger_length > len(target_seq):\n",
    "    print('Error: trigger length has to be smaller than the target sequence length')"
   ]
  },
  {
   "cell_type": "code",
   "execution_count": 16,
   "metadata": {},
   "outputs": [],
   "source": [
    "formatted_seq = target_seq.upper().replace('T', 'U').replace(' ', '')\n",
    "potential_triggers = split_sequence(formatted_seq, trigger_length) "
   ]
  },
  {
   "cell_type": "markdown",
   "metadata": {},
   "source": [
    "### Selecting unique trigger sequences\n",
    "If the trigger has the same sequence as part of the homolog sequence, then the riboregulator created won't be able to discriminate between the target and homolog RNAs because they will both bind with the same efficacy to the trigger binding site (ignoring binding of the RNAs to regions outside of the trigger binding site), thus K_target/K_homolog is not >> 1. Hence, non-unique trigger sequence (trigger seqeunces that are identical to part of the homolog sequence) are discarded. Note, this is only the first step of removing homologs, once the  K_target/K_homolog has been calculated, it is possible to remove more riboregulators that poorly discriminate against homologs."
   ]
  },
  {
   "cell_type": "code",
   "execution_count": 17,
   "metadata": {},
   "outputs": [],
   "source": [
    "triggers_unique_seq = []\n",
    "if homologs != []:\n",
    "    for trigger in potential_triggers:\n",
    "        if trigger not in str(homologs).upper().replace('T', 'U').replace(' ', ''): \n",
    "            triggers_unique_seq.append(trigger)"
   ]
  },
  {
   "cell_type": "markdown",
   "metadata": {},
   "source": [
    " "
   ]
  },
  {
   "cell_type": "markdown",
   "metadata": {},
   "source": [
    "## Step 3: Design a riboregulator for each trigger sequence\n",
    "Riboregulators are designed for valid trigger sequence. The loop of the riboregulator is the reverse complement of the trigger RNA."
   ]
  },
  {
   "cell_type": "code",
   "execution_count": 18,
   "metadata": {},
   "outputs": [],
   "source": [
    "if homologs != []:\n",
    "    riboregulators = [\n",
    "        make_riboregulators(reversed_complement(trigger))[0] \n",
    "        for trigger in triggers_unique_seq\n",
    "        ]\n",
    "    df_riboregulators = pd.DataFrame(data=triggers_unique_seq,columns=['triggers'])\n",
    "elif homologs == []:\n",
    "    riboregulators = [\n",
    "        make_riboregulators(reversed_complement(trigger))[0] \n",
    "        for trigger in potential_triggers\n",
    "        ]\n",
    "    df_riboregulators = pd.DataFrame(data=potential_triggers,columns=['triggers'])\n",
    "df_riboregulators['riboregulator_sequences'] = riboregulators"
   ]
  },
  {
   "cell_type": "markdown",
   "metadata": {},
   "source": [
    " "
   ]
  },
  {
   "cell_type": "markdown",
   "metadata": {},
   "source": [
    " "
   ]
  },
  {
   "cell_type": "markdown",
   "metadata": {},
   "source": [
    "## Step 4: Evaluate sequence properties using NUPACK \n",
    "NUPACK functions are used for thermodynamic analysis of the riboregulators. \n",
    " \n",
    "\n",
    " "
   ]
  },
  {
   "cell_type": "markdown",
   "metadata": {},
   "source": [
    "### Specificy the ideal secondary structure of  riboregulator components\n",
    "Dot notation is used for RNA secondary structure (parantheses represent base pairing, whilsts dots represent unpaired bases)."
   ]
  },
  {
   "cell_type": "markdown",
   "metadata": {},
   "source": [
    "#### Ideal structure (structureless) of the trigger binding site in the loop region:"
   ]
  },
  {
   "cell_type": "code",
   "execution_count": 19,
   "metadata": {},
   "outputs": [],
   "source": [
    "binding_struct = trigger_length*'.'\n",
    "#only if no additional nts are added to the trigger binding site in loop, otherwise adjust"
   ]
  },
  {
   "cell_type": "markdown",
   "metadata": {},
   "source": [
    "#### Ideal structure of the riboregulator in the OFF state:"
   ]
  },
  {
   "cell_type": "code",
   "execution_count": 20,
   "metadata": {},
   "outputs": [],
   "source": [
    "stem_5_prime_structure = (\n",
    "    len(base_5)*'(' + len(start_codon_complement)*'(' \n",
    "    + len(internal_loop_5)*'.'\n",
    "    + len(mid_5)*'(' + len(RBS_complement)*'('\n",
    "    )\n",
    "\n",
    "stem_3_prime_structure = (\n",
    "    len(RBS)*')' + len(mid_3)*')'+ len(internal_loop_3)*'.' \n",
    "    + len(start_codon)*')' + len(base_3)*')'\n",
    "    )\n",
    "\n",
    "loop_structure = binding_struct + len(loop_extension)*'.'  \n",
    "\n",
    "linker_structure = len(linker)*'.'\n",
    "\n",
    "ribo_struct = (\n",
    "    stem_5_prime_structure + loop_structure \n",
    "    + stem_3_prime_structure + linker_structure\n",
    "    )"
   ]
  },
  {
   "cell_type": "markdown",
   "metadata": {},
   "source": [
    "#### Ideal structure (structureless) after the trigger binding site once the trigger RNA is bound:"
   ]
  },
  {
   "cell_type": "code",
   "execution_count": 21,
   "metadata": {},
   "outputs": [],
   "source": [
    "struct_after_complex = len(loop_extension + stem_5_prime + linker)*'.'"
   ]
  },
  {
   "cell_type": "markdown",
   "metadata": {},
   "source": [
    "### Specificy values for indexing"
   ]
  },
  {
   "cell_type": "code",
   "execution_count": 22,
   "metadata": {},
   "outputs": [],
   "source": [
    "#first position after trigger-binding site complex\n",
    "complex_end = len(stem_5_prime) + trigger_length\n",
    "\n",
    "#first position of the trigger-binding site complex\n",
    "complex_start = len(stem_5_prime)"
   ]
  },
  {
   "cell_type": "markdown",
   "metadata": {},
   "source": [
    "### Calculation of the thermodynamic parameters for each design"
   ]
  },
  {
   "cell_type": "code",
   "execution_count": 23,
   "metadata": {},
   "outputs": [],
   "source": [
    "num_riboregs = len(df_riboregulators)"
   ]
  },
  {
   "cell_type": "markdown",
   "metadata": {},
   "source": [
    "Ensemble Defect: Represents the average number of incorrectly paired nucleotides at equilibrium, evaluated over the ensemble of  a part of the/the whole complex.\n",
    "\n",
    "dfull_sensor: Ensemble defect for the full toehold switch sequence and structure."
   ]
  },
  {
   "cell_type": "code",
   "execution_count": 24,
   "metadata": {},
   "outputs": [
    {
     "name": "stderr",
     "output_type": "stream",
     "text": [
      "dfull_sensor: 100%|█████████████████████████████████████████████████████████████████████| 39/39 [00:03<00:00, 12.83it/s]\n"
     ]
    }
   ],
   "source": [
    "dfull_sensor = [\n",
    "    nupack.defect([df_riboregulators.iloc[i, 1]], ribo_struct, T=simulation_temp) \n",
    "    for i in tqdm(range(num_riboregs),desc='dfull_sensor')\n",
    "    ]"
   ]
  },
  {
   "cell_type": "markdown",
   "metadata": {},
   "source": [
    " "
   ]
  },
  {
   "cell_type": "markdown",
   "metadata": {},
   "source": [
    "dactive_sensor: Ensemble defect from the end of the trigger binding site-target RNA complex. A completely single-stranded secondary structure is used for assessing design quality for dactive_sensor."
   ]
  },
  {
   "cell_type": "code",
   "execution_count": 25,
   "metadata": {},
   "outputs": [
    {
     "name": "stderr",
     "output_type": "stream",
     "text": [
      "dactive_sensor: 100%|███████████████████████████████████████████████████████████████████| 39/39 [00:00<00:00, 64.64it/s]\n"
     ]
    }
   ],
   "source": [
    "dactive_sensor = [\n",
    "    nupack.defect([df_riboregulators.iloc[i,1][complex_end::]],struct_after_complex, T=simulation_temp)\n",
    "    for i in tqdm(range(num_riboregs), desc='dactive_sensor')\n",
    "    ]"
   ]
  },
  {
   "cell_type": "markdown",
   "metadata": {},
   "source": [
    " "
   ]
  },
  {
   "cell_type": "markdown",
   "metadata": {},
   "source": [
    "dbinding_site: Ensemble defect for the trigger binding site, specifying a completely single-stranded structure as the ideal structure for the binding site region as an unstructured loop binds the target RNA more efficiently."
   ]
  },
  {
   "cell_type": "code",
   "execution_count": 26,
   "metadata": {
    "scrolled": true
   },
   "outputs": [
    {
     "name": "stderr",
     "output_type": "stream",
     "text": [
      "dbinding_site: 100%|███████████████████████████████████████████████████████████████████| 39/39 [00:00<00:00, 130.57it/s]\n"
     ]
    }
   ],
   "source": [
    "dbinding_site = [\n",
    "    nupack.defect([df_riboregulators.iloc[i,1][complex_start:complex_end]],binding_struct, T=simulation_temp) \n",
    "    for i in tqdm(range(num_riboregs), desc='dbinding_site')\n",
    "    ]"
   ]
  },
  {
   "cell_type": "markdown",
   "metadata": {},
   "source": [
    " "
   ]
  },
  {
   "cell_type": "markdown",
   "metadata": {},
   "source": [
    "dG_RBS_linker: Minimum free energy of the structure between the ribosome binding site and the end of the linker region. In Green et al. 2014, this parameter is the single best predictor of toehold switch function."
   ]
  },
  {
   "cell_type": "code",
   "execution_count": 27,
   "metadata": {},
   "outputs": [
    {
     "name": "stderr",
     "output_type": "stream",
     "text": [
      "dG_RBS_linker: 100%|███████████████████████████████████████████████████████████████████| 39/39 [00:00<00:00, 110.87it/s]\n"
     ]
    }
   ],
   "source": [
    "dG_RBS_linker = [\n",
    "    nupack.mfe([df_riboregulators.iloc[i,1][complex_end+len(loop_extension)::]], T=simulation_temp) \n",
    "    for i in tqdm(range(num_riboregs), desc='dG_RBS_linker')\n",
    "    ]"
   ]
  },
  {
   "cell_type": "markdown",
   "metadata": {},
   "source": [
    " "
   ]
  },
  {
   "cell_type": "markdown",
   "metadata": {},
   "source": [
    "dG_target_binding: minumum free energy structure of target bound riboregulator "
   ]
  },
  {
   "cell_type": "code",
   "execution_count": 28,
   "metadata": {},
   "outputs": [
    {
     "name": "stderr",
     "output_type": "stream",
     "text": [
      "dG_target_binding: 100%|████████████████████████████████████████████████████████████████| 39/39 [00:03<00:00, 11.34it/s]\n"
     ]
    }
   ],
   "source": [
    "dG_target_binding = [\n",
    "    nupack.mfe([target_seq,(df_riboregulators.iloc[i][1])], T=simulation_temp) \n",
    "    for i in tqdm(range(num_riboregs),desc ='dG_target_binding')\n",
    "    ]"
   ]
  },
  {
   "cell_type": "markdown",
   "metadata": {},
   "source": [
    " "
   ]
  },
  {
   "cell_type": "markdown",
   "metadata": {},
   "source": [
    "dG_homolog_binding: minumum free energy structure of homolog bound riboregulator"
   ]
  },
  {
   "cell_type": "code",
   "execution_count": 29,
   "metadata": {},
   "outputs": [
    {
     "name": "stderr",
     "output_type": "stream",
     "text": [
      "dG_homolog_binding: 100%|███████████████████████████████████████████████████████████████| 39/39 [00:01<00:00, 30.73it/s]\n",
      "dG_homolog_binding: 100%|███████████████████████████████████████████████████████████████| 39/39 [00:01<00:00, 34.39it/s]\n"
     ]
    }
   ],
   "source": [
    "if homologs != []:\n",
    "    dict_dG_homolog_bindings = {}\n",
    "    for seq in homologs:\n",
    "        dict_dG_homolog_bindings[seq] = [\n",
    "            nupack.mfe([seq,(df_riboregulators.iloc[i][1])], T=simulation_temp) \n",
    "            for i in tqdm(range(num_riboregs),desc ='dG_homolog_binding')\n",
    "            ]\n",
    "else: \n",
    "    dict_dG_homolog_bindings = {}"
   ]
  },
  {
   "cell_type": "code",
   "execution_count": 30,
   "metadata": {},
   "outputs": [],
   "source": [
    "df_dG_homolog_bindings = pd.DataFrame([dict_dG_homolog_bindings[key] for key in dict_dG_homolog_bindings]).transpose()"
   ]
  },
  {
   "cell_type": "code",
   "execution_count": 31,
   "metadata": {},
   "outputs": [],
   "source": [
    "df_dG_homolog_bindings['min_dG'] = df_dG_homolog_bindings.min(axis=1)\n",
    "#selects the strongest binding, if the binding is too strong then don't use that riboregulator"
   ]
  },
  {
   "cell_type": "markdown",
   "metadata": {},
   "source": [
    " "
   ]
  },
  {
   "cell_type": "markdown",
   "metadata": {},
   "source": [
    "ddG_binding: ΔΔG for target binding. Have to calculate the mfe structures for unbound riboregulator and target RNA and bound riboregulator and subtract the unbound riboregulator and target mfes from the bound mfe."
   ]
  },
  {
   "cell_type": "code",
   "execution_count": 32,
   "metadata": {},
   "outputs": [
    {
     "name": "stderr",
     "output_type": "stream",
     "text": [
      "dG_closed_riboregulator: 100%|██████████████████████████████████████████████████████████| 39/39 [00:00<00:00, 55.54it/s]\n"
     ]
    }
   ],
   "source": [
    "dG_closed_riboregulator = [\n",
    "    nupack.mfe([df_riboregulators.iloc[i,1]], T=simulation_temp) \n",
    "    for i in tqdm(range(num_riboregs), desc = 'dG_closed_riboregulator')\n",
    "    ]\n",
    "\n",
    "dG_free_target = nupack.mfe([target_seq], T=simulation_temp)\n",
    "\n",
    "ddG_binding = [\n",
    "    (dG_target_binding[i]-(dG_closed_riboregulator[i]+dG_free_target)) \n",
    "    for i in range(num_riboregs)\n",
    "    ]"
   ]
  },
  {
   "cell_type": "markdown",
   "metadata": {},
   "source": [
    "target_homolog_ratio: ratio of equilibrium constants for target and homolog binding to the riboregulator\n",
    "\n",
    "The ratio of equilibrium constants gives an insight into how well a riboregulator discriminates between target and homolog RNAs."
   ]
  },
  {
   "cell_type": "code",
   "execution_count": 33,
   "metadata": {},
   "outputs": [],
   "source": [
    "cal_to_joule = 4.184\n",
    "temp_kelvin = simulation_temp + 273.15\n",
    "kcal_to_cal = 1000\n",
    "\n",
    "if homologs != []:\n",
    "    K_target = [\n",
    "        np.exp((dG_target_binding[i]*kcal_to_cal*cal_to_joule)/(-8.31*temp_kelvin)) \n",
    "        for i in range(num_riboregs)\n",
    "    ]\n",
    "    K_homolog = [\n",
    "        np.exp((df_dG_homolog_bindings['min_dG'].iloc[i]*kcal_to_cal*cal_to_joule)/(-8.31*temp_kelvin)) \n",
    "        for i in range(num_riboregs)\n",
    "    ]\n",
    "    target_homolog_ratio = [K_target[i]/K_homolog[i] for i in range(num_riboregs)]\n",
    "else:\n",
    "    target_homolog_ratio = []"
   ]
  },
  {
   "cell_type": "markdown",
   "metadata": {},
   "source": [
    " "
   ]
  },
  {
   "cell_type": "markdown",
   "metadata": {},
   "source": [
    "Scoring from Ma, D, et al. 2018):\n",
    "- Three-parameter fit (R2 = 0.57):\n",
    "- Fold change = –71.7 dfull_sensor  – 49.1 dactive_sensor – 22.6 dbinding_site + 54.3\n",
    "\n",
    "\n",
    "Note that the R squared values are calculated using 3 or 4 parameters to divide up a data set of 6 toehold switches. Care should be taken with overreliance of these scores as the data has been overfitted (too many parameters are used to distinguish between just 6 toheold switches). A larger dataset is needed to create a better scoring system. A number of different calculations are performed to give insights into the riboregulators, many of which are not included in the current scoring calculation, but may offer insights into which riboregulators are desirable (e.g. K_target/K_homolog is a measure of specificty and shows whether a homolog RNA species may bind well to the riboregulator, the smaller the value, the poorer the specificity is likely to be - note binding kinetics are not included in this).  "
   ]
  },
  {
   "cell_type": "code",
   "execution_count": 34,
   "metadata": {
    "scrolled": false
   },
   "outputs": [
    {
     "data": {
      "text/html": [
       "<div>\n",
       "<style scoped>\n",
       "    .dataframe tbody tr th:only-of-type {\n",
       "        vertical-align: middle;\n",
       "    }\n",
       "\n",
       "    .dataframe tbody tr th {\n",
       "        vertical-align: top;\n",
       "    }\n",
       "\n",
       "    .dataframe thead th {\n",
       "        text-align: right;\n",
       "    }\n",
       "</style>\n",
       "<table border=\"1\" class=\"dataframe\">\n",
       "  <thead>\n",
       "    <tr style=\"text-align: right;\">\n",
       "      <th></th>\n",
       "      <th>triggers</th>\n",
       "      <th>riboregulator_sequences</th>\n",
       "      <th>dfull_sensor</th>\n",
       "      <th>dactive_sensor</th>\n",
       "      <th>dbinding_site</th>\n",
       "      <th>dG_RBS_linker (kcal/mol)</th>\n",
       "      <th>ddG_binding (kcal/mol)</th>\n",
       "      <th>dG_target_binding (kcal/mol)</th>\n",
       "      <th>dG_homolog_binding (kcal/mol)</th>\n",
       "      <th>K_target/K_homolog</th>\n",
       "      <th>score</th>\n",
       "    </tr>\n",
       "  </thead>\n",
       "  <tbody>\n",
       "    <tr>\n",
       "      <th>16</th>\n",
       "      <td>GAGUGUGUGUGAGCGGGA</td>\n",
       "      <td>CUGCAUCCGCCUCUCCUUCCCGCUCACACACACUCAGGAGAGAAAAAUGCAGACCUGGCGGCAGCGCAAGAAG</td>\n",
       "      <td>0.1276</td>\n",
       "      <td>0.26</td>\n",
       "      <td>0.01994</td>\n",
       "      <td>-4.2</td>\n",
       "      <td>-19.581</td>\n",
       "      <td>-57.981</td>\n",
       "      <td>-33.381</td>\n",
       "      <td>2.205777e+17</td>\n",
       "      <td>31.934436</td>\n",
       "    </tr>\n",
       "    <tr>\n",
       "      <th>18</th>\n",
       "      <td>GUGUGUGUGAGCGGGAUG</td>\n",
       "      <td>CUGCAUCCGCCUCUCCUCAUCCCGCUCACACACACAGGAGAGAAAAAUGCAGACCUGGCGGCAGCGCAAGAAG</td>\n",
       "      <td>0.1279</td>\n",
       "      <td>0.26</td>\n",
       "      <td>0.02173</td>\n",
       "      <td>-4.2</td>\n",
       "      <td>-19.681</td>\n",
       "      <td>-58.081</td>\n",
       "      <td>-33.381</td>\n",
       "      <td>2.594560e+17</td>\n",
       "      <td>31.872472</td>\n",
       "    </tr>\n",
       "    <tr>\n",
       "      <th>10</th>\n",
       "      <td>GAGAGCGAGUGUGUGUGA</td>\n",
       "      <td>CUGCAUCCGCCUCUCCUUCACACACACUCGCUCUCAGGAGAGAAAAAUGCAGACCUGGCGGCAGCGCAAGAAG</td>\n",
       "      <td>0.1320</td>\n",
       "      <td>0.26</td>\n",
       "      <td>0.01713</td>\n",
       "      <td>-4.2</td>\n",
       "      <td>-21.181</td>\n",
       "      <td>-59.581</td>\n",
       "      <td>-33.381</td>\n",
       "      <td>2.962089e+18</td>\n",
       "      <td>31.682462</td>\n",
       "    </tr>\n",
       "    <tr>\n",
       "      <th>11</th>\n",
       "      <td>AGAGCGAGUGUGUGUGAG</td>\n",
       "      <td>CUGCAUCCGCCUCUCCUCUCACACACACUCGCUCUAGGAGAGAAAAAUGCAGACCUGGCGGCAGCGCAAGAAG</td>\n",
       "      <td>0.1338</td>\n",
       "      <td>0.26</td>\n",
       "      <td>0.01725</td>\n",
       "      <td>-4.2</td>\n",
       "      <td>-18.581</td>\n",
       "      <td>-56.881</td>\n",
       "      <td>-33.281</td>\n",
       "      <td>4.350495e+16</td>\n",
       "      <td>31.550690</td>\n",
       "    </tr>\n",
       "    <tr>\n",
       "      <th>17</th>\n",
       "      <td>AGUGUGUGUGAGCGGGAU</td>\n",
       "      <td>CUGCAUCCGCCUCUCCUAUCCCGCUCACACACACUAGGAGAGAAAAAUGCAGACCUGGCGGCAGCGCAAGAAG</td>\n",
       "      <td>0.1467</td>\n",
       "      <td>0.26</td>\n",
       "      <td>0.02021</td>\n",
       "      <td>-4.2</td>\n",
       "      <td>-18.581</td>\n",
       "      <td>-58.381</td>\n",
       "      <td>-34.781</td>\n",
       "      <td>4.350495e+16</td>\n",
       "      <td>30.558864</td>\n",
       "    </tr>\n",
       "  </tbody>\n",
       "</table>\n",
       "</div>"
      ],
      "text/plain": [
       "              triggers  \\\n",
       "16  GAGUGUGUGUGAGCGGGA   \n",
       "18  GUGUGUGUGAGCGGGAUG   \n",
       "10  GAGAGCGAGUGUGUGUGA   \n",
       "11  AGAGCGAGUGUGUGUGAG   \n",
       "17  AGUGUGUGUGAGCGGGAU   \n",
       "\n",
       "                                                      riboregulator_sequences  \\\n",
       "16  CUGCAUCCGCCUCUCCUUCCCGCUCACACACACUCAGGAGAGAAAAAUGCAGACCUGGCGGCAGCGCAAGAAG   \n",
       "18  CUGCAUCCGCCUCUCCUCAUCCCGCUCACACACACAGGAGAGAAAAAUGCAGACCUGGCGGCAGCGCAAGAAG   \n",
       "10  CUGCAUCCGCCUCUCCUUCACACACACUCGCUCUCAGGAGAGAAAAAUGCAGACCUGGCGGCAGCGCAAGAAG   \n",
       "11  CUGCAUCCGCCUCUCCUCUCACACACACUCGCUCUAGGAGAGAAAAAUGCAGACCUGGCGGCAGCGCAAGAAG   \n",
       "17  CUGCAUCCGCCUCUCCUAUCCCGCUCACACACACUAGGAGAGAAAAAUGCAGACCUGGCGGCAGCGCAAGAAG   \n",
       "\n",
       "    dfull_sensor  dactive_sensor  dbinding_site  dG_RBS_linker (kcal/mol)  \\\n",
       "16        0.1276            0.26        0.01994                      -4.2   \n",
       "18        0.1279            0.26        0.02173                      -4.2   \n",
       "10        0.1320            0.26        0.01713                      -4.2   \n",
       "11        0.1338            0.26        0.01725                      -4.2   \n",
       "17        0.1467            0.26        0.02021                      -4.2   \n",
       "\n",
       "    ddG_binding (kcal/mol)  dG_target_binding (kcal/mol)  \\\n",
       "16                 -19.581                       -57.981   \n",
       "18                 -19.681                       -58.081   \n",
       "10                 -21.181                       -59.581   \n",
       "11                 -18.581                       -56.881   \n",
       "17                 -18.581                       -58.381   \n",
       "\n",
       "    dG_homolog_binding (kcal/mol)  K_target/K_homolog      score  \n",
       "16                        -33.381        2.205777e+17  31.934436  \n",
       "18                        -33.381        2.594560e+17  31.872472  \n",
       "10                        -33.381        2.962089e+18  31.682462  \n",
       "11                        -33.281        4.350495e+16  31.550690  \n",
       "17                        -34.781        4.350495e+16  30.558864  "
      ]
     },
     "execution_count": 34,
     "metadata": {},
     "output_type": "execute_result"
    }
   ],
   "source": [
    "score = (\n",
    "    54.3 - 71.7*np.array(dfull_sensor) - 49.1*np.array(dactive_sensor)\n",
    "    - 22.6*np.array(dbinding_site)\n",
    "    )\n",
    "\n",
    "target_data = [\n",
    "    dfull_sensor,\n",
    "    dactive_sensor,\n",
    "    dbinding_site,\n",
    "    dG_RBS_linker,\n",
    "    ddG_binding,\n",
    "    dG_target_binding,\n",
    "    score\n",
    "    ]\n",
    "\n",
    "target_columns = [\n",
    "    'dfull_sensor',\n",
    "    'dactive_sensor',\n",
    "    'dbinding_site',\n",
    "    'dG_RBS_linker (kcal/mol)',\n",
    "    'ddG_binding (kcal/mol)',\n",
    "    'dG_target_binding (kcal/mol)',\n",
    "    'score'\n",
    "    ]\n",
    "   \n",
    "if homologs != []:\n",
    "    homolog_data = target_data\n",
    "    homolog_data.insert(-1, list(df_dG_homolog_bindings['min_dG']))\n",
    "    homolog_data.insert(-1, target_homolog_ratio)\n",
    "    homolog_columns = target_columns\n",
    "    homolog_columns.insert(-1, 'dG_homolog_binding (kcal/mol)')\n",
    "    homolog_columns.insert(-1, 'K_target/K_homolog')\n",
    "    score_frame = pd.DataFrame(np.stack(homolog_data).T, columns=homolog_columns)\n",
    "else:\n",
    "    score_frame = pd.DataFrame(np.stack(target_data).T, columns=target_columns)\n",
    "\n",
    "sorted_riboregulators = df_riboregulators.join(score_frame).sort_values('score', ascending=False)\n",
    "pd.set_option('display.max_colwidth', None)\n",
    "sorted_riboregulators.head()"
   ]
  },
  {
   "cell_type": "markdown",
   "metadata": {},
   "source": [
    "## Save the output to a CSV"
   ]
  },
  {
   "cell_type": "code",
   "execution_count": 37,
   "metadata": {},
   "outputs": [],
   "source": [
    "sorted_riboregulators.to_csv(\"outputs/ranked_designs.csv\")"
   ]
  },
  {
   "cell_type": "markdown",
   "metadata": {},
   "source": [
    "## Notes"
   ]
  },
  {
   "cell_type": "markdown",
   "metadata": {},
   "source": [
    "- Shorter loops (and hence smaller window) would give a higher specificity as the relative contribution of each nt to the overall binding is greater so it matters more if there is a mismatch. However, a shorter miRNA binding platform would require a shorter stem, which would increase leakage. Could increase trigger binding site by putting some of the trigger binding site in the stem and this won't affect loop size, the RNA would then have to undergo a short strand displacement reaction as well.\n",
    "\n",
    "\n",
    "- Could alter loop size e.g add buffer between binding site and RBS. This may be desirable as the double stranded RNA region could interfere with access to the RBS if the dsRNA is too close. \n",
    "\n",
    "\n",
    "- Could change stem lengths too to alter competition between the stem and target binding - alter specificity."
   ]
  }
 ],
 "metadata": {
  "kernelspec": {
   "display_name": "Python 3 (ipykernel)",
   "language": "python",
   "name": "python3"
  },
  "language_info": {
   "codemirror_mode": {
    "name": "ipython",
    "version": 3
   },
   "file_extension": ".py",
   "mimetype": "text/x-python",
   "name": "python",
   "nbconvert_exporter": "python",
   "pygments_lexer": "ipython3",
   "version": "3.8.10"
  }
 },
 "nbformat": 4,
 "nbformat_minor": 2
}
